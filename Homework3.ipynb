{
 "cells": [
  {
   "cell_type": "markdown",
   "id": "d6d92d03",
   "metadata": {},
   "source": [
    "## PA 3 -- Alex Smith -- Fall 2021"
   ]
  },
  {
   "cell_type": "code",
   "execution_count": 33,
   "id": "59a897f9",
   "metadata": {},
   "outputs": [
    {
     "name": "stdout",
     "output_type": "stream",
     "text": [
      "Enter the length of side A: 12\n",
      "Enter the length of side B: 16\n",
      "Enter the length of side C: 21\n",
      "The area of the triangle is 95.4512310030625 square units.\n",
      "The perimeter of the triangle is  49.0 linear units.\n"
     ]
    }
   ],
   "source": [
    "import math\n",
    "\n",
    "A = float(input('Enter the length of side A: '))\n",
    "B = float(input('Enter the length of side B: '))\n",
    "C = float(input('Enter the length of side C: '))\n",
    "\n",
    "def calcPerimeter(): \n",
    "    perimeter = (A+B+C)\n",
    "    return perimeter\n",
    "    \n",
    "s = ((A+B+C)/2)\n",
    "\n",
    "def calcArea():\n",
    "    area = (math.sqrt(s*(s-A)*(s-B)*(s-C)))\n",
    "    return area\n",
    "    \n",
    "print(\"The area of the triangle is\", calcArea(), \"square units.\")\n",
    "print(\"The perimeter of the triangle is \", calcPerimeter(), \"linear units.\")"
   ]
  },
  {
   "cell_type": "code",
   "execution_count": 56,
   "id": "27489910",
   "metadata": {
    "scrolled": false
   },
   "outputs": [
    {
     "name": "stdout",
     "output_type": "stream",
     "text": [
      "Enter your guess: 100\n",
      "Too low! Guess again\n",
      "Enter your guess: 200\n",
      "Too high! Guess again\n",
      "Enter your guess: 150\n",
      "Too low! Guess again\n",
      "Enter your guess: 160\n",
      "Too low! Guess again\n",
      "Enter your guess: 170\n",
      "Too low! Guess again\n",
      "Enter your guess: 180\n",
      "Too low! Guess again\n",
      "Enter your guess: 190\n",
      "Too high! Guess again\n",
      "Enter your guess: 185\n",
      "Too low! Guess again\n",
      "Enter your guess: 186\n",
      "Too low! Guess again\n",
      "Enter your guess: 187\n",
      "Too low! Guess again\n",
      "Enter your guess: 188\n",
      "Correct!\n"
     ]
    }
   ],
   "source": [
    "import random\n",
    "\n",
    "guess = int()\n",
    "n = random.randint(1,1000)\n",
    "\n",
    "while guess != n:\n",
    "    guess=int(input(\"Enter your guess: \"))\n",
    "    \n",
    "    def evaluateGuess():\n",
    "        \n",
    "        if guess == n:\n",
    "            print(\"Correct!\")\n",
    "    \n",
    "        elif guess > n:\n",
    "            print(\"Too high! Guess again\")\n",
    "    \n",
    "        elif guess < n:\n",
    "            print(\"Too low! Guess again\")\n",
    "        return\n",
    "    \n",
    "    evaluateGuess()"
   ]
  },
  {
   "cell_type": "code",
   "execution_count": 57,
   "id": "4f4c48b8",
   "metadata": {},
   "outputs": [
    {
     "name": "stdout",
     "output_type": "stream",
     "text": [
      "The mean temperature for the past 6 days is 91.16666666666667 degrees.\n"
     ]
    }
   ],
   "source": [
    "import statistics\n",
    "\n",
    "temps = (88, 98, 85, 91, 93, 92)\n",
    "\n",
    "def meanTemp():\n",
    "    x = statistics.mean(temps)\n",
    "    return x\n",
    "\n",
    "y = len(temps)\n",
    "\n",
    "count_temps = temps.count(1)\n",
    "\n",
    "print(\"The mean temperature for the past\", y, \"days is\", meanTemp(), \"degrees.\")"
   ]
  },
  {
   "cell_type": "code",
   "execution_count": null,
   "id": "0ec6f9d4",
   "metadata": {},
   "outputs": [],
   "source": []
  }
 ],
 "metadata": {
  "kernelspec": {
   "display_name": "Python 3",
   "language": "python",
   "name": "python3"
  },
  "language_info": {
   "codemirror_mode": {
    "name": "ipython",
    "version": 3
   },
   "file_extension": ".py",
   "mimetype": "text/x-python",
   "name": "python",
   "nbconvert_exporter": "python",
   "pygments_lexer": "ipython3",
   "version": "3.8.8"
  }
 },
 "nbformat": 4,
 "nbformat_minor": 5
}
